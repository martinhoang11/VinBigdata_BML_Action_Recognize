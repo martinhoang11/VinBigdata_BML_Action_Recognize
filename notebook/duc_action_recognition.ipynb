{
  "nbformat": 4,
  "nbformat_minor": 0,
  "metadata": {
    "kernelspec": {
      "display_name": "Python 3",
      "language": "python",
      "name": "python3"
    },
    "language_info": {
      "codemirror_mode": {
        "name": "ipython",
        "version": 3
      },
      "file_extension": ".py",
      "mimetype": "text/x-python",
      "name": "python",
      "nbconvert_exporter": "python",
      "pygments_lexer": "ipython3",
      "version": "3.8.3"
    },
    "colab": {
      "name": "duc_action_recognition.ipynb",
      "provenance": [],
      "collapsed_sections": [],
      "toc_visible": true
    }
  },
  "cells": [
    {
      "cell_type": "markdown",
      "metadata": {
        "id": "TC1uI7jeHL5K"
      },
      "source": [
        "### Mount data from google drive"
      ]
    },
    {
      "cell_type": "code",
      "metadata": {
        "colab": {
          "base_uri": "https://localhost:8080/"
        },
        "id": "SU05E3r468GC",
        "outputId": "d51a0e2d-b9c2-41ee-b5a6-251e1e8ae196"
      },
      "source": [
        "from google.colab import drive\r\n",
        "drive.mount('/content/drive')"
      ],
      "execution_count": 1,
      "outputs": [
        {
          "output_type": "stream",
          "text": [
            "Mounted at /content/drive\n"
          ],
          "name": "stdout"
        }
      ]
    },
    {
      "cell_type": "code",
      "metadata": {
        "id": "5YRHKwcQeF-z"
      },
      "source": [
        "ACTION_MAP_ID = {\r\n",
        "    0: 'sit down', # sit down\r\n",
        "    1: 'stand up', # stand up\r\n",
        "    2: 'jump', # jump\r\n",
        "    3: 'hand shake', # hand shake\r\n",
        "    4: 'walk', # walk\r\n",
        "}"
      ],
      "execution_count": 44,
      "outputs": []
    },
    {
      "cell_type": "markdown",
      "metadata": {
        "id": "v54fbkjfHf6k"
      },
      "source": [
        "### Import"
      ]
    },
    {
      "cell_type": "code",
      "metadata": {
        "id": "xklbvAY75sbH"
      },
      "source": [
        "import pandas as pd\n",
        "import numpy as np\n",
        "from sklearn.model_selection import train_test_split\n",
        "from sklearn import svm\n",
        "from sklearn.model_selection import cross_val_score, cross_val_predict\n",
        "from sklearn.metrics import accuracy_score, classification_report, confusion_matrix"
      ],
      "execution_count": 2,
      "outputs": []
    },
    {
      "cell_type": "markdown",
      "metadata": {
        "id": "9qdu_35yHtkK"
      },
      "source": [
        "### Load data"
      ]
    },
    {
      "cell_type": "code",
      "metadata": {
        "scrolled": true,
        "id": "20-s1gMb5sbV"
      },
      "source": [
        "path = 'drive/MyDrive/dataset.csv'"
      ],
      "execution_count": 4,
      "outputs": []
    },
    {
      "cell_type": "code",
      "metadata": {
        "id": "9JY2S1Kt5sbW",
        "colab": {
          "base_uri": "https://localhost:8080/"
        },
        "outputId": "7d20ea3d-cc6e-449c-a10d-824a81def206"
      },
      "source": [
        "df = pd.read_csv(path)\n",
        "\n",
        "print(df.shape)\n",
        "data = df.values\n",
        "print(data.shape)\n",
        "\n",
        "n_samples = data.shape[0]\n",
        "n_frame = 15\n",
        "n_point = 14\n",
        "\n",
        "X = data[:,:-1]\n",
        "y = data[:, -1].astype('int')\n",
        "\n",
        "X = X.reshape((n_samples, n_frame, n_point, 2))\n",
        "print(X.shape)\n"
      ],
      "execution_count": 5,
      "outputs": [
        {
          "output_type": "stream",
          "text": [
            "(33736, 421)\n",
            "(33736, 421)\n",
            "(33736, 15, 14, 2)\n"
          ],
          "name": "stdout"
        }
      ]
    },
    {
      "cell_type": "markdown",
      "metadata": {
        "id": "FqE_5_zQK9GQ"
      },
      "source": [
        "### Normalization"
      ]
    },
    {
      "cell_type": "code",
      "metadata": {
        "id": "A6AJDpxD5sbY"
      },
      "source": [
        "def norm_inner_feat(X):\n",
        "  temp_X = X - X[:, :, 0, :].reshape(X.shape[0], X.shape[1], 1, X.shape[-1])\n",
        "  return temp_X[:, :, 1:, :]\n",
        "\n",
        "\n",
        "def norm_outer_feat(X, fps=30):\n",
        "  n_samples = X.shape[0]\n",
        "  n_frame = X.shape[1]\n",
        "  n_joint = X.shape[2]\n",
        "  v = np.zeros((n_samples, n_frame - 1, n_joint, 2))\n",
        "  time = 1 / fps\n",
        "  for n in range(n_samples):\n",
        "      for f in range(n_frame-1):\n",
        "          v[n,f] = (X[n,f+1] - X[n,f]) / time\n",
        "  return v"
      ],
      "execution_count": 11,
      "outputs": []
    },
    {
      "cell_type": "code",
      "metadata": {
        "id": "U0EPutaJ5sba"
      },
      "source": [
        "inner_feat = norm_inner_feat(X)\n",
        "outer_feat = norm_outer_feat(X)"
      ],
      "execution_count": 12,
      "outputs": []
    },
    {
      "cell_type": "code",
      "metadata": {
        "id": "1VtCme5VGKWB"
      },
      "source": [
        "X_norm = np.hstack([inner_feat.reshape(len(X), -1), outer_feat.reshape(len(X), -1)])"
      ],
      "execution_count": 22,
      "outputs": []
    },
    {
      "cell_type": "markdown",
      "metadata": {
        "id": "pUOCb3zgeLX5"
      },
      "source": [
        "## Modeling "
      ]
    },
    {
      "cell_type": "code",
      "metadata": {
        "id": "RfGT7aMrHEZM"
      },
      "source": [
        "X_train, X_test, y_train, y_test = train_test_split(X_norm, y, test_size = 5000, stratify=y, random_state=42)\r\n"
      ],
      "execution_count": 25,
      "outputs": []
    },
    {
      "cell_type": "markdown",
      "metadata": {
        "id": "pBURKC-VeQDw"
      },
      "source": [
        "### SVM"
      ]
    },
    {
      "cell_type": "code",
      "metadata": {
        "id": "xzMeFcOl5sbc",
        "colab": {
          "base_uri": "https://localhost:8080/"
        },
        "outputId": "c1068937-e26a-4cf3-884e-3a8dd41c8ad1"
      },
      "source": [
        "import datetime\n",
        "start =  datetime.datetime.now()\n",
        "\n",
        "clf = svm.SVC(kernel='rbf', class_weight='balanced', random_state=42)\n",
        "clf.fit(X_train, y_train)\n",
        "\n",
        "end =  datetime.datetime.now()\n",
        "print('Time: ', end - start)"
      ],
      "execution_count": 26,
      "outputs": [
        {
          "output_type": "stream",
          "text": [
            "Time:  0:19:15.088909\n"
          ],
          "name": "stdout"
        }
      ]
    },
    {
      "cell_type": "code",
      "metadata": {
        "id": "jsdHKxDBBB5E"
      },
      "source": [
        "def print_score(clf, X_train, y_train, X_test, y_test, train=True):\r\n",
        "    '''\r\n",
        "    print the accuracy score, classification report and confusion matrix of classifier\r\n",
        "    '''\r\n",
        "    gt = y_train\r\n",
        "    y_predict = clf.predict(X_train)\r\n",
        "    if train==False:\r\n",
        "      gt = y_test\r\n",
        "      y_predict = clf.predict(X_test)\r\n",
        "\r\n",
        "    print(\"Test Result:\\n\")        \r\n",
        "    print(\"accuracy score: {0:.4f}\\n\".format(accuracy_score(gt, y_predict)))\r\n",
        "    print(\"Classification Report: \\n {}\\n\".format(classification_report(gt, y_predict)))\r\n",
        "    print(\"Confusion Matrix: \\n {}\\n\".format(confusion_matrix(gt, y_predict)))    \r\n",
        "        "
      ],
      "execution_count": 32,
      "outputs": []
    },
    {
      "cell_type": "code",
      "metadata": {
        "id": "AyyaXjU_5sbd",
        "colab": {
          "base_uri": "https://localhost:8080/"
        },
        "outputId": "94ae30da-fe3c-4a59-8acc-6bfb602b2342"
      },
      "source": [
        "start =  datetime.datetime.now()\r\n",
        "\r\n",
        "print_score(clf, X_train, y_train, X_test, y_test, train=True)\r\n",
        "\r\n",
        "end =  datetime.datetime.now()\r\n",
        "print('Time: ', end - start)"
      ],
      "execution_count": 28,
      "outputs": [
        {
          "output_type": "stream",
          "text": [
            "Test Result:\n",
            "\n",
            "accuracy score: 0.7080\n",
            "\n",
            "Classification Report: \n",
            "               precision    recall  f1-score   support\n",
            "\n",
            "           0       0.58      0.87      0.70      2882\n",
            "           1       0.50      0.59      0.54      6284\n",
            "           2       0.76      0.66      0.71      2266\n",
            "           3       0.69      0.80      0.74      4615\n",
            "           4       0.93      0.71      0.80     12689\n",
            "\n",
            "    accuracy                           0.71     28736\n",
            "   macro avg       0.69      0.72      0.70     28736\n",
            "weighted avg       0.75      0.71      0.72     28736\n",
            "\n",
            "\n",
            "Confusion Matrix: \n",
            " [[2498  229   44   38   73]\n",
            " [1032 3722  407  759  364]\n",
            " [ 122  488 1490   99   67]\n",
            " [ 158  571    0 3671  215]\n",
            " [ 477 2453   17  779 8963]]\n",
            "\n",
            "Time:  0:13:08.923446\n"
          ],
          "name": "stdout"
        }
      ]
    },
    {
      "cell_type": "code",
      "metadata": {
        "id": "ixQIdWFE5sbd",
        "colab": {
          "base_uri": "https://localhost:8080/"
        },
        "outputId": "49728a5b-5e2d-48e0-b33a-273ce88b6397"
      },
      "source": [
        "start =  datetime.datetime.now()\r\n",
        "\r\n",
        "print_score(clf, X_train, y_train, X_test, y_test, train=False)\r\n",
        "\r\n",
        "end =  datetime.datetime.now()\r\n",
        "print('Time: ', end - start)"
      ],
      "execution_count": 33,
      "outputs": [
        {
          "output_type": "stream",
          "text": [
            "Test Result:\n",
            "\n",
            "accuracy score: 0.6566\n",
            "\n",
            "Classification Report: \n",
            "               precision    recall  f1-score   support\n",
            "\n",
            "           0       0.50      0.76      0.60       502\n",
            "           1       0.44      0.52      0.48      1093\n",
            "           2       0.70      0.63      0.67       394\n",
            "           3       0.67      0.76      0.71       803\n",
            "           4       0.88      0.67      0.76      2208\n",
            "\n",
            "    accuracy                           0.66      5000\n",
            "   macro avg       0.64      0.67      0.64      5000\n",
            "weighted avg       0.70      0.66      0.67      5000\n",
            "\n",
            "\n",
            "Confusion Matrix: \n",
            " [[ 381   58   12    8   43]\n",
            " [ 197  573   89  141   93]\n",
            " [  20   85  250   18   21]\n",
            " [  32  118    0  610   43]\n",
            " [ 131  473    5  130 1469]]\n",
            "\n",
            "Time:  0:15:27.350258\n"
          ],
          "name": "stdout"
        }
      ]
    },
    {
      "cell_type": "code",
      "metadata": {
        "colab": {
          "base_uri": "https://localhost:8080/"
        },
        "id": "MuNTj32NbgMa",
        "outputId": "9c3384dd-a297-47c5-8124-a1d0b9fd9136"
      },
      "source": [
        "from sklearn.externals import joblib\r\n",
        "\r\n",
        "joblib.dump(clf, 'svm_15_d.pkl')"
      ],
      "execution_count": 34,
      "outputs": [
        {
          "output_type": "stream",
          "text": [
            "/usr/local/lib/python3.6/dist-packages/sklearn/externals/joblib/__init__.py:15: FutureWarning: sklearn.externals.joblib is deprecated in 0.21 and will be removed in 0.23. Please import this functionality directly from joblib, which can be installed with: pip install joblib. If this warning is raised when loading pickled models, you may need to re-serialize those models with scikit-learn 0.21+.\n",
            "  warnings.warn(msg, category=FutureWarning)\n"
          ],
          "name": "stderr"
        },
        {
          "output_type": "execute_result",
          "data": {
            "text/plain": [
              "['svm_15_d.pkl']"
            ]
          },
          "metadata": {
            "tags": []
          },
          "execution_count": 34
        }
      ]
    },
    {
      "cell_type": "markdown",
      "metadata": {
        "id": "yy4SKSniexES"
      },
      "source": [
        "### XGBoost"
      ]
    },
    {
      "cell_type": "code",
      "metadata": {
        "id": "VqF_4FYP_odl"
      },
      "source": [
        "from xgboost import XGBClassifier"
      ],
      "execution_count": 46,
      "outputs": []
    },
    {
      "cell_type": "code",
      "metadata": {
        "id": "seiTw-pPgbKQ"
      },
      "source": [
        "param = {\r\n",
        "    \"n_estimators\": 100,\r\n",
        "    \"nthread\": -1,\r\n",
        "    \"eta\": 0.1,\r\n",
        "    \"max_depth\": 20,\r\n",
        "}"
      ],
      "execution_count": 57,
      "outputs": []
    },
    {
      "cell_type": "code",
      "metadata": {
        "id": "B8R-ZW-wjdGq"
      },
      "source": [
        "xgb = XGBClassifier(**param)\r\n"
      ],
      "execution_count": 58,
      "outputs": []
    },
    {
      "cell_type": "code",
      "metadata": {
        "colab": {
          "base_uri": "https://localhost:8080/"
        },
        "id": "lPoi6WPjjsBN",
        "outputId": "82846646-549c-46bd-a719-2cbea139064b"
      },
      "source": [
        "xgb.fit(X_train, y_train)"
      ],
      "execution_count": 59,
      "outputs": [
        {
          "output_type": "execute_result",
          "data": {
            "text/plain": [
              "XGBClassifier(base_score=0.5, booster='gbtree', colsample_bylevel=1,\n",
              "              colsample_bynode=1, colsample_bytree=1, eta=0.1, gamma=0,\n",
              "              learning_rate=0.1, max_delta_step=0, max_depth=20,\n",
              "              min_child_weight=1, missing=None, n_estimators=100, n_jobs=1,\n",
              "              nthread=-1, objective='multi:softprob', random_state=0,\n",
              "              reg_alpha=0, reg_lambda=1, scale_pos_weight=1, seed=None,\n",
              "              silent=None, subsample=1, verbosity=1)"
            ]
          },
          "metadata": {
            "tags": []
          },
          "execution_count": 59
        }
      ]
    },
    {
      "cell_type": "code",
      "metadata": {
        "colab": {
          "base_uri": "https://localhost:8080/"
        },
        "id": "jtByXOBUIu2A",
        "outputId": "82041de0-9f35-4052-eb3c-08498c9c73f2"
      },
      "source": [
        "start =  datetime.datetime.now()\r\n",
        "\r\n",
        "print_score(xgb, X_train, y_train, X_test, y_test, train=True)\r\n",
        "\r\n",
        "end =  datetime.datetime.now()\r\n",
        "print('Time: ', end - start)"
      ],
      "execution_count": 62,
      "outputs": [
        {
          "output_type": "stream",
          "text": [
            "Test Result:\n",
            "\n",
            "accuracy score: 0.9998\n",
            "\n",
            "Classification Report: \n",
            "               precision    recall  f1-score   support\n",
            "\n",
            "           0       1.00      1.00      1.00      2882\n",
            "           1       1.00      1.00      1.00      6284\n",
            "           2       1.00      1.00      1.00      2266\n",
            "           3       1.00      1.00      1.00      4615\n",
            "           4       1.00      1.00      1.00     12689\n",
            "\n",
            "    accuracy                           1.00     28736\n",
            "   macro avg       1.00      1.00      1.00     28736\n",
            "weighted avg       1.00      1.00      1.00     28736\n",
            "\n",
            "\n",
            "Confusion Matrix: \n",
            " [[ 2882     0     0     0     0]\n",
            " [    5  6279     0     0     0]\n",
            " [    0     0  2266     0     0]\n",
            " [    1     0     0  4614     0]\n",
            " [    0     0     0     0 12689]]\n",
            "\n",
            "Time:  0:00:05.647985\n"
          ],
          "name": "stdout"
        }
      ]
    },
    {
      "cell_type": "code",
      "metadata": {
        "colab": {
          "base_uri": "https://localhost:8080/"
        },
        "id": "06P4cGt8k7C7",
        "outputId": "c2ffe925-a55b-4e33-88df-956eb2e3507d"
      },
      "source": [
        "start =  datetime.datetime.now()\r\n",
        "\r\n",
        "print_score(xgb, X_train, y_train, X_test, y_test, train=False)\r\n",
        "\r\n",
        "end =  datetime.datetime.now()\r\n",
        "print('Time: ', end - start)"
      ],
      "execution_count": 60,
      "outputs": [
        {
          "output_type": "stream",
          "text": [
            "Test Result:\n",
            "\n",
            "accuracy score: 0.8142\n",
            "\n",
            "Classification Report: \n",
            "               precision    recall  f1-score   support\n",
            "\n",
            "           0       0.83      0.78      0.80       502\n",
            "           1       0.69      0.67      0.68      1093\n",
            "           2       0.79      0.61      0.69       394\n",
            "           3       0.84      0.85      0.84       803\n",
            "           4       0.86      0.92      0.89      2208\n",
            "\n",
            "    accuracy                           0.81      5000\n",
            "   macro avg       0.80      0.76      0.78      5000\n",
            "weighted avg       0.81      0.81      0.81      5000\n",
            "\n",
            "\n",
            "Confusion Matrix: \n",
            " [[ 390   53    4    4   51]\n",
            " [  45  736   59   92  161]\n",
            " [  18   80  240    4   52]\n",
            " [   6   56    0  680   61]\n",
            " [  11  138    2   32 2025]]\n",
            "\n",
            "Time:  0:00:06.976420\n"
          ],
          "name": "stdout"
        }
      ]
    },
    {
      "cell_type": "code",
      "metadata": {
        "id": "3zoAbDhKGyHU"
      },
      "source": [
        "xgb.save_model('xgb_15_d.pkl')"
      ],
      "execution_count": 61,
      "outputs": []
    },
    {
      "cell_type": "markdown",
      "metadata": {
        "id": "B3IMU42qISBh"
      },
      "source": [
        "## XGBoost với windows = 30 frame"
      ]
    },
    {
      "cell_type": "code",
      "metadata": {
        "id": "SK2bpbGLHEiQ"
      },
      "source": [
        "path = 'drive/MyDrive/30_dataset.csv'"
      ],
      "execution_count": 65,
      "outputs": []
    },
    {
      "cell_type": "code",
      "metadata": {
        "colab": {
          "base_uri": "https://localhost:8080/"
        },
        "id": "0fTe5RCDIzV3",
        "outputId": "d6999229-5cd3-46e3-a3c4-9349b4118b51"
      },
      "source": [
        "df = pd.read_csv(path)\r\n",
        "print(df.shape)\r\n",
        "\r\n",
        "# Bỏ những trường hợp người đi bộ ra ngoài khung hình\r\n",
        "df = df[~((df==1).any(axis=1) & (df.iloc[:, -1] == 4))]\r\n",
        "data = df.values\r\n",
        "\r\n",
        "print(data.shape)\r\n",
        "\r\n",
        "n_samples = data.shape[0]\r\n",
        "n_frame = 30\r\n",
        "n_point = 14\r\n",
        "\r\n",
        "X = data[:,:-1]\r\n",
        "y = data[:, -1].astype('int')\r\n",
        "\r\n",
        "X = X.reshape((n_samples, n_frame, n_point, 2))\r\n",
        "print(X.shape)\r\n"
      ],
      "execution_count": 66,
      "outputs": [
        {
          "output_type": "stream",
          "text": [
            "(16232, 841)\n",
            "(14710, 841)\n",
            "(14710, 30, 14, 2)\n"
          ],
          "name": "stdout"
        }
      ]
    },
    {
      "cell_type": "markdown",
      "metadata": {
        "id": "BSJY1hcOJ184"
      },
      "source": [
        "#### Normalize"
      ]
    },
    {
      "cell_type": "code",
      "metadata": {
        "id": "yEKVeqHbJPrB"
      },
      "source": [
        "inner_feat = norm_inner_feat(X)\r\n",
        "outer_feat = norm_outer_feat(X)\r\n",
        "X_norm = np.hstack([inner_feat.reshape(len(X), -1), outer_feat.reshape(len(X), -1)])"
      ],
      "execution_count": 68,
      "outputs": []
    },
    {
      "cell_type": "markdown",
      "metadata": {
        "id": "gwllGiQEJ6Zv"
      },
      "source": [
        "#### Modeling"
      ]
    },
    {
      "cell_type": "code",
      "metadata": {
        "id": "IuLF903sJrVz"
      },
      "source": [
        "X_train, X_test, y_train, y_test = train_test_split(X_norm, y, test_size = 0.2, stratify=y, random_state=42)\r\n"
      ],
      "execution_count": 69,
      "outputs": []
    },
    {
      "cell_type": "code",
      "metadata": {
        "id": "_aojrfMoJ_Kl"
      },
      "source": [
        "param = {\r\n",
        "    \"n_estimators\": 15,\r\n",
        "    \"nthread\": -1,\r\n",
        "    \"eta\": 0.1,\r\n",
        "    \"max_depth\": 15,\r\n",
        "}"
      ],
      "execution_count": 96,
      "outputs": []
    },
    {
      "cell_type": "code",
      "metadata": {
        "id": "9Yt3aUazKJ_J"
      },
      "source": [
        "xgb = XGBClassifier(**param)"
      ],
      "execution_count": 97,
      "outputs": []
    },
    {
      "cell_type": "code",
      "metadata": {
        "colab": {
          "base_uri": "https://localhost:8080/"
        },
        "id": "lEam40DPKUIb",
        "outputId": "29bf05a1-e41b-4336-a887-b863df06ef23"
      },
      "source": [
        "start =  datetime.datetime.now()\r\n",
        "xgb.fit(X_train, y_train)\r\n",
        "end =  datetime.datetime.now()\r\n",
        "print('Time: ', end - start)"
      ],
      "execution_count": 98,
      "outputs": [
        {
          "output_type": "stream",
          "text": [
            "Time:  0:06:38.064610\n"
          ],
          "name": "stdout"
        }
      ]
    },
    {
      "cell_type": "code",
      "metadata": {
        "colab": {
          "base_uri": "https://localhost:8080/"
        },
        "id": "hUy4RTMYOQHH",
        "outputId": "37ca6253-2904-4d94-9af1-10eef259aed8"
      },
      "source": [
        "start =  datetime.datetime.now()\r\n",
        "\r\n",
        "print_score(xgb, X_train, y_train, X_test, y_test, train=True)\r\n",
        "\r\n",
        "end =  datetime.datetime.now()\r\n",
        "print('Time: ', end - start)"
      ],
      "execution_count": 99,
      "outputs": [
        {
          "output_type": "stream",
          "text": [
            "Test Result:\n",
            "\n",
            "accuracy score: 0.9957\n",
            "\n",
            "Classification Report: \n",
            "               precision    recall  f1-score   support\n",
            "\n",
            "           0       1.00      0.99      1.00       766\n",
            "           1       0.99      1.00      1.00      3489\n",
            "           2       1.00      0.98      0.99      1269\n",
            "           3       1.00      1.00      1.00      1153\n",
            "           4       1.00      1.00      1.00      5091\n",
            "\n",
            "    accuracy                           1.00     11768\n",
            "   macro avg       1.00      0.99      1.00     11768\n",
            "weighted avg       1.00      1.00      1.00     11768\n",
            "\n",
            "\n",
            "Confusion Matrix: \n",
            " [[ 761    5    0    0    0]\n",
            " [   0 3482    0    0    7]\n",
            " [   1   12 1242    0   14]\n",
            " [   0    4    0 1148    1]\n",
            " [   0    6    0    1 5084]]\n",
            "\n",
            "Time:  0:00:00.722938\n"
          ],
          "name": "stdout"
        }
      ]
    },
    {
      "cell_type": "code",
      "metadata": {
        "colab": {
          "base_uri": "https://localhost:8080/"
        },
        "id": "SGlTCtObKfQU",
        "outputId": "3f35e9ad-c9f4-49a2-c80f-7df38cf6feb3"
      },
      "source": [
        "start =  datetime.datetime.now()\r\n",
        "\r\n",
        "print_score(xgb, X_train, y_train, X_test, y_test, train=False)\r\n",
        "\r\n",
        "end =  datetime.datetime.now()\r\n",
        "print('Time: ', end - start)"
      ],
      "execution_count": 100,
      "outputs": [
        {
          "output_type": "stream",
          "text": [
            "Test Result:\n",
            "\n",
            "accuracy score: 0.8644\n",
            "\n",
            "Classification Report: \n",
            "               precision    recall  f1-score   support\n",
            "\n",
            "           0       0.78      0.72      0.75       191\n",
            "           1       0.79      0.85      0.82       872\n",
            "           2       0.93      0.87      0.90       318\n",
            "           3       0.84      0.70      0.76       288\n",
            "           4       0.92      0.93      0.93      1273\n",
            "\n",
            "    accuracy                           0.86      2942\n",
            "   macro avg       0.85      0.81      0.83      2942\n",
            "weighted avg       0.87      0.86      0.86      2942\n",
            "\n",
            "\n",
            "Confusion Matrix: \n",
            " [[ 138   33    5    2   13]\n",
            " [  26  739   12   28   67]\n",
            " [   2   21  277    2   16]\n",
            " [   2   75    0  201   10]\n",
            " [   8   66    5    6 1188]]\n",
            "\n",
            "Time:  0:00:00.809374\n"
          ],
          "name": "stdout"
        }
      ]
    },
    {
      "cell_type": "code",
      "metadata": {
        "id": "YV5jWI8IOIDR"
      },
      "source": [
        "xgb.save_model('xgb_30_d.pkl')"
      ],
      "execution_count": 101,
      "outputs": []
    },
    {
      "cell_type": "code",
      "metadata": {
        "id": "ZPe_bACvWJpq"
      },
      "source": [
        ""
      ],
      "execution_count": null,
      "outputs": []
    }
  ]
}